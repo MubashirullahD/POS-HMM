{
 "cells": [
  {
   "cell_type": "code",
   "execution_count": 1,
   "metadata": {},
   "outputs": [],
   "source": [
    "import nltk\n",
    "import itertools\n",
    "import operator, functools\n",
    "from nltk.corpus import brown"
   ]
  },
  {
   "cell_type": "code",
   "execution_count": 2,
   "metadata": {},
   "outputs": [],
   "source": [
    "news_tag_train = brown.tagged_sents(categories = 'news', tagset = 'universal')[:-500]\n",
    "news_tag_test  = brown.tagged_sents(categories = 'news', tagset = 'universal')[-500:]"
   ]
  },
  {
   "cell_type": "code",
   "execution_count": 3,
   "metadata": {},
   "outputs": [],
   "source": [
    "# Tag        Meaning                  English Examples\n",
    "\n",
    "# ADJ        adjective                new, good, high, special, big, local\n",
    "# ADP        adposition               on, of, at, with, by, into, under\n",
    "# ADV        adverb                   really, already, still, early, now\n",
    "# CONJ       conjunction              and, or, but, if, while, although\n",
    "# DET        determiner, article      the, a, some, most, every, no, which\n",
    "# NOUN       noun                     year, home, costs, time, Africa\n",
    "# NUM        numeral                  twenty-four, fourth, 1991, 14:24\n",
    "# PRT        particle                 at, on, out, over per, that, up, with\n",
    "# PRON       pronoun                  he, their, her, its, my, I, us\n",
    "# VERB       verb                     is, say, told, given, playing, would\n",
    "# .          punctuation marks        . , ; !\n",
    "# X          other                    ersatz, esprit, dunno, gr8, univeristy\n",
    "\n",
    "tags = [\"ADJ\", \"ADP\", \"ADV\", \"CONJ\", \"DET\", \"NOUN\", \"NUM\", \"PRT\", \"PRON\", \"VERB\", \".\", \"X\"]"
   ]
  },
  {
   "cell_type": "code",
   "execution_count": 4,
   "metadata": {},
   "outputs": [],
   "source": [
    "# Reduce the list of list to a single list of words\n",
    "word_tag_train = list(itertools.chain.from_iterable(news_tag_train))\n",
    "\n",
    "word_tag_train = [(str.lower(a),b) for (a,b) in word_tag_train]"
   ]
  },
  {
   "cell_type": "code",
   "execution_count": 5,
   "metadata": {},
   "outputs": [],
   "source": [
    "word_tag_pairs_train = list(nltk.bigrams(word_tag_train))"
   ]
  },
  {
   "cell_type": "code",
   "execution_count": 6,
   "metadata": {},
   "outputs": [],
   "source": [
    "# Making the transition matrix"
   ]
  },
  {
   "cell_type": "code",
   "execution_count": 7,
   "metadata": {},
   "outputs": [],
   "source": [
    "def tagTransition(tag):\n",
    "    \"\"\"\n",
    "    Count of each tag that follows a given tag\n",
    "    \"\"\"\n",
    "    return [b[1] for (a, b) in word_tag_pairs_train if a[1] == tag]"
   ]
  },
  {
   "cell_type": "code",
   "execution_count": 8,
   "metadata": {},
   "outputs": [],
   "source": [
    "adjective_transitions    = tagTransition(\"ADJ\")\n",
    "adposition_transitions   = tagTransition(\"ADP\")\n",
    "adverb_transitions       = tagTransition(\"ADV\")\n",
    "conjunction_transitions  = tagTransition(\"CONJ\")\n",
    "determiner_transitions   = tagTransition(\"DET\")\n",
    "noun_transitions         = tagTransition(\"NOUN\")\n",
    "numeral_transitions      = tagTransition(\"NUM\")\n",
    "particle_transitions     = tagTransition(\"PRT\")\n",
    "pronoun_transitions      = tagTransition(\"PRON\")\n",
    "verb_transitions         = tagTransition(\"VERB\")\n",
    "punctuation_transitions  = tagTransition(\".\")\n",
    "other_transitions        = tagTransition(\"X\")\n",
    "\n",
    "\n",
    "adjective_fdist     = nltk.FreqDist(adjective_transitions)\n",
    "adposition_fdist    = nltk.FreqDist(adposition_transitions)\n",
    "adverb_fdist        = nltk.FreqDist(adverb_transitions)\n",
    "conjunction_fdist   = nltk.FreqDist(conjunction_transitions)\n",
    "determiner_fdist    = nltk.FreqDist(determiner_transitions)\n",
    "noun_fdist          = nltk.FreqDist(noun_transitions)\n",
    "numeral_fdist       = nltk.FreqDist(numeral_transitions)\n",
    "particle_fdist      = nltk.FreqDist(particle_transitions)\n",
    "pronoun_fdist       = nltk.FreqDist(pronoun_transitions)\n",
    "verb_fdist          = nltk.FreqDist(verb_transitions)\n",
    "punctuation_fdist   = nltk.FreqDist(punctuation_transitions)\n",
    "other_fdist         = nltk.FreqDist(other_transitions)"
   ]
  },
  {
   "cell_type": "code",
   "execution_count": 9,
   "metadata": {},
   "outputs": [],
   "source": [
    "tag_fdist = [adjective_fdist, adposition_fdist, adverb_fdist, conjunction_fdist, determiner_fdist, noun_fdist, numeral_fdist,\n",
    "             particle_fdist, pronoun_fdist, verb_fdist, punctuation_fdist, other_fdist]"
   ]
  },
  {
   "cell_type": "code",
   "execution_count": 10,
   "metadata": {},
   "outputs": [],
   "source": [
    "def tagFreq(tag_fdist):\n",
    "    \"\"\"\n",
    "    Sum of all the transitions in a given tag\n",
    "    \"\"\"\n",
    "    return sum([a for (_,a) in tag_fdist.most_common()])"
   ]
  },
  {
   "cell_type": "code",
   "execution_count": 11,
   "metadata": {},
   "outputs": [],
   "source": [
    "total_adjective    = tagFreq(adjective_fdist) \n",
    "total_adposition   = tagFreq(adposition_fdist) \n",
    "total_adverb       = tagFreq(adverb_fdist) \n",
    "total_conjunction  = tagFreq(conjunction_fdist) \n",
    "total_determiner   = tagFreq(determiner_fdist) \n",
    "total_noun         = tagFreq(noun_fdist) \n",
    "total_numeral      = tagFreq(numeral_fdist) \n",
    "total_particle     = tagFreq(particle_fdist) \n",
    "total_pronoun      = tagFreq(pronoun_fdist) \n",
    "total_verb         = tagFreq(verb_fdist) \n",
    "total_punctuation  = tagFreq(punctuation_fdist) \n",
    "total_other        = tagFreq(other_fdist) "
   ]
  },
  {
   "cell_type": "code",
   "execution_count": 12,
   "metadata": {},
   "outputs": [],
   "source": [
    "tag_total = [total_adjective, total_adposition, total_adverb, total_conjunction, total_determiner, total_noun, total_numeral,\n",
    "        total_particle, total_pronoun, total_verb, total_punctuation, total_other]"
   ]
  },
  {
   "cell_type": "code",
   "execution_count": 13,
   "metadata": {},
   "outputs": [],
   "source": [
    "tag_total_dic = dict(zip(tags, tag_total))"
   ]
  },
  {
   "cell_type": "code",
   "execution_count": 14,
   "metadata": {},
   "outputs": [],
   "source": [
    "# Make matrix a where each aij represents the probability of moving\n",
    "#from state i to state j, such that the sum of all j in an i = 1\n",
    "tag_transition = {}\n",
    "\n",
    "for tagi, tag_fdisti in zip(tags, tag_fdist):\n",
    "    # Normalize each tag to get sum of prob = 1\n",
    "    value = {k: v/tag_total_dic[tagi] for k,v in tag_fdisti.most_common()}\n",
    "    \n",
    "    tmp = {tagi: value}\n",
    "    tag_transition.update(tmp)"
   ]
  },
  {
   "cell_type": "code",
   "execution_count": 15,
   "metadata": {},
   "outputs": [],
   "source": [
    "# Emission part\n",
    "# Written briefly in comparison to the transition code"
   ]
  },
  {
   "cell_type": "code",
   "execution_count": 16,
   "metadata": {},
   "outputs": [],
   "source": [
    "tag_emission_fdist = nltk.FreqDist(word_tag_train)"
   ]
  },
  {
   "cell_type": "code",
   "execution_count": 17,
   "metadata": {},
   "outputs": [],
   "source": [
    "def tagEmission(tag):\n",
    "    return dict([(a[0], b / tag_total_dic[tag]) for a,b in tag_emission_fdist.items() if a[1] == tag])"
   ]
  },
  {
   "cell_type": "code",
   "execution_count": 18,
   "metadata": {},
   "outputs": [],
   "source": [
    "tag_emission = {}\n",
    "for tagi in tags:\n",
    "    tmp = {tagi: tagEmission(tagi)}\n",
    "    tag_emission.update(tmp)"
   ]
  },
  {
   "cell_type": "code",
   "execution_count": 19,
   "metadata": {},
   "outputs": [],
   "source": [
    "# Helper functions for Viterbi"
   ]
  },
  {
   "cell_type": "code",
   "execution_count": 20,
   "metadata": {},
   "outputs": [],
   "source": [
    "def _tagTransition():\n",
    "    \"\"\"\n",
    "    Some tags are missing naturally.\n",
    "    This adds their keys with 0 prob    \n",
    "    \"\"\"\n",
    "    tag_dict = {}\n",
    "    for tag, transition in tag_transition.items():\n",
    "        tmp = {}\n",
    "        for _tags in tags:\n",
    "            if _tags in transition.keys():\n",
    "                tmp[_tags] = transition[_tags]\n",
    "            else:\n",
    "                tmp[_tags] = 0\n",
    "        tag_dict[tag] = tmp\n",
    "    return tag_dict\n",
    "            "
   ]
  },
  {
   "cell_type": "code",
   "execution_count": 21,
   "metadata": {},
   "outputs": [],
   "source": [
    "def _wordEmission(sent):\n",
    "    \"\"\"\n",
    "    Simplifying tag emission\n",
    "    by only listing observation emissions\n",
    "    \"\"\"\n",
    "    word_dict = {}\n",
    "    for tag, emission in tag_emission.items():\n",
    "        tmp = {}\n",
    "        for word in sent:\n",
    "            if word in emission.keys():\n",
    "                tmp[word] = emission[word]\n",
    "            else:\n",
    "                tmp[word] = 0\n",
    "        word_dict[tag] = tmp            \n",
    "    return word_dict"
   ]
  },
  {
   "cell_type": "code",
   "execution_count": 22,
   "metadata": {},
   "outputs": [],
   "source": [
    "def _setPI(pi):\n",
    "    \"\"\"\n",
    "    pi represents initial transmission probability\n",
    "    Here we update tag_transition with the start\n",
    "    probabilities if given and set it ourselves\n",
    "    otherwise\n",
    "    \"\"\"\n",
    "    k = len(tag_emission.keys())\n",
    "    tmp = {}\n",
    "    if pi == None:\n",
    "        for x in tag_emission.keys():\n",
    "            tmp[x] = 1/k\n",
    "\n",
    "    elif type(pi) == list:\n",
    "        # Make sure the right number of tags were sent\n",
    "        l = k - len(pi)\n",
    "        pi.extend([0]*l)\n",
    "        for x, i in zip(tag_emission.keys(), pi):\n",
    "            tmp[x] = i\n",
    "    elif type(pi) == dict:\n",
    "        tmp = pi\n",
    "    if sum(tmp.values()) != 1:\n",
    "        raise ValueError('Pi values given does not sum to 1')\n",
    "    return tmp"
   ]
  },
  {
   "cell_type": "code",
   "execution_count": 23,
   "metadata": {},
   "outputs": [],
   "source": [
    "def _viterbi(obs, states, start_p, trans_p, emit_p):\n",
    "    \"\"\"\n",
    "    Code taken from https://en.wikipedia.org/wiki/Viterbi_algorithm#Pseudocode\n",
    "    Modified slightly for tie breakers so that unknown words do not give error\n",
    "    \"\"\"\n",
    "    V = [{}]\n",
    "    for st in states:\n",
    "        V[0][st] = {\"prob\": start_p[st] * emit_p[st][obs[0]], \"prev\": None}\n",
    "        \n",
    "    # Run Viterbi when t > 0\n",
    "    for t in range(1, len(obs)):\n",
    "        V.append({})\n",
    "        for st in states:\n",
    "            max_tr_prob = V[t-1][states[0]][\"prob\"]*trans_p[states[0]][st]\n",
    "            prev_st_selected = states[0]\n",
    "            for prev_st in states[1:]:\n",
    "                tr_prob = V[t-1][prev_st][\"prob\"]*trans_p[prev_st][st]\n",
    "                if tr_prob > max_tr_prob:\n",
    "                    max_tr_prob = tr_prob\n",
    "                    prev_st_selected = prev_st\n",
    "                    \n",
    "            max_prob = max_tr_prob * emit_p[st][obs[t]]\n",
    "            V[t][st] = {\"prob\": max_prob, \"prev\": prev_st_selected}\n",
    "                    \n",
    "    for line in dptable(V):\n",
    "        print (line)\n",
    "    \n",
    "    opt = []\n",
    "    max_prob = 0.0\n",
    "    previous = None\n",
    "    \n",
    "    # Get most probable state and its backtrack\n",
    "    for st, data in V[-1].items():\n",
    "        if data[\"prob\"] >= max_prob:\n",
    "            max_prob = data[\"prob\"]\n",
    "            best_st = st\n",
    "    opt.append(best_st)\n",
    "    previous = best_st\n",
    "    \n",
    "    # Follow the backtrack till the first observation\n",
    "    for t in range(len(V) - 2, -1, -1):\n",
    "        opt.insert(0, V[t + 1][previous][\"prev\"])\n",
    "        previous = V[t + 1][previous][\"prev\"]\n",
    "\n",
    "    print ('The steps of states are ' + ' '.join(opt) + ' with highest probability of %s' % max_prob)\n",
    "\n",
    "def dptable(V):\n",
    "    # Print a table of steps from dictionary\n",
    "    yield \" \".join((\"%12d\" % i) for i in range(len(V)))\n",
    "    for state in V[0]:\n",
    "        yield \"%.8s: \" % state + \" \".join(\"%.8s\" % (\"%f\" % v[state][\"prob\"]) for v in V)"
   ]
  },
  {
   "cell_type": "code",
   "execution_count": 24,
   "metadata": {},
   "outputs": [],
   "source": [
    "def viterbi(sent, pi = None):\n",
    "    \"\"\"\n",
    "    Enter observations in sent either as a sentence or a list of words.\n",
    "    pi refers to the initial transition probabilities. Enter as either a list or a dictionary, or leave empty.\n",
    "    \"\"\"\n",
    "    sent = sent.split() if isinstance(sent, str) else sent\n",
    "    obs  = [s.lower() for s in sent]\n",
    "    start_p = _setPI(pi)\n",
    "    trans_p = _tagTransition()\n",
    "    emit_p  = _wordEmission(obs)\n",
    "    states  = list(tag_transition.keys())\n",
    "    _viterbi(obs, states, start_p, trans_p, emit_p)\n",
    "    "
   ]
  },
  {
   "cell_type": "code",
   "execution_count": 25,
   "metadata": {},
   "outputs": [
    {
     "name": "stdout",
     "output_type": "stream",
     "text": [
      "           0            1            2\n",
      "ADJ: 0.000000 0.000000 0.000000\n",
      "ADP: 0.000000 0.000000 0.000000\n",
      "ADV: 0.000000 0.000000 0.000000\n",
      "CONJ: 0.000000 0.000000 0.000000\n",
      "DET: 0.046876 0.000000 0.000000\n",
      "NOUN: 0.000000 0.000015 0.000000\n",
      "NUM: 0.000000 0.000000 0.000000\n",
      "PRT: 0.000000 0.000000 0.000000\n",
      "PRON: 0.000000 0.000000 0.000000\n",
      "VERB: 0.000000 0.000000 0.000000\n",
      ".: 0.000000 0.000000 0.000000\n",
      "X: 0.000000 0.000000 0.000000\n",
      "The steps of states are DET NOUN NOUN with highest probability of 8.122366028947956e-09\n"
     ]
    }
   ],
   "source": [
    "viterbi([\"the\", \"fulton\", \"county\"])"
   ]
  },
  {
   "cell_type": "code",
   "execution_count": null,
   "metadata": {},
   "outputs": [],
   "source": []
  }
 ],
 "metadata": {
  "kernelspec": {
   "display_name": "Python 3",
   "language": "python",
   "name": "python3"
  },
  "language_info": {
   "codemirror_mode": {
    "name": "ipython",
    "version": 3
   },
   "file_extension": ".py",
   "mimetype": "text/x-python",
   "name": "python",
   "nbconvert_exporter": "python",
   "pygments_lexer": "ipython3",
   "version": "3.6.5"
  }
 },
 "nbformat": 4,
 "nbformat_minor": 2
}
